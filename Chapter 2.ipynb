{
 "cells": [
  {
   "metadata": {},
   "cell_type": "markdown",
   "source": "",
   "id": "e8d7376209a80ba7"
  },
  {
   "cell_type": "code",
   "id": "initial_id",
   "metadata": {
    "collapsed": true,
    "ExecuteTime": {
     "end_time": "2025-01-08T16:51:05.543215Z",
     "start_time": "2025-01-08T16:51:05.130562Z"
    }
   },
   "source": [
    "import urllib.request\n",
    "url = (\"https://raw.githubusercontent.com/rasbt/\"\n",
    "       \"LLMs-from-scratch/main/ch02/01_main-chapter-code/\"\n",
    "       \"the-verdict.txt\")\n",
    "file = \"the-verdict.txt\"\n",
    "urllib.request.urlretrieve(url, file)"
   ],
   "outputs": [
    {
     "data": {
      "text/plain": [
       "('the-verdict.txt', <http.client.HTTPMessage at 0x1b0352ebdd0>)"
      ]
     },
     "execution_count": 30,
     "metadata": {},
     "output_type": "execute_result"
    }
   ],
   "execution_count": 30
  },
  {
   "metadata": {
    "ExecuteTime": {
     "end_time": "2025-01-08T16:51:05.563324Z",
     "start_time": "2025-01-08T16:51:05.545225Z"
    }
   },
   "cell_type": "code",
   "source": [
    "with open (file , 'r' , encoding = 'utf-8') as f :\n",
    "    raw = f.read()\n",
    "print(\"The raw file is: \", len(raw))\n",
    "print(raw[:99])"
   ],
   "id": "fcd52724b0aab52f",
   "outputs": [
    {
     "name": "stdout",
     "output_type": "stream",
     "text": [
      "The raw file is:  20479\n",
      "I HAD always thought Jack Gisburn rather a cheap genius--though a good fellow enough--so it was no \n"
     ]
    }
   ],
   "execution_count": 31
  },
  {
   "metadata": {
    "ExecuteTime": {
     "end_time": "2025-01-08T16:51:05.570228Z",
     "start_time": "2025-01-08T16:51:05.565341Z"
    }
   },
   "cell_type": "code",
   "source": [
    "import re\n",
    "text  = \"Hello, world. This, is a test.\"\n",
    "res = re.split(r'(\\s)',text)\n",
    "print (res)"
   ],
   "id": "e6f83b802e860174",
   "outputs": [
    {
     "name": "stdout",
     "output_type": "stream",
     "text": [
      "['Hello,', ' ', 'world.', ' ', 'This,', ' ', 'is', ' ', 'a', ' ', 'test.']\n"
     ]
    }
   ],
   "execution_count": 32
  },
  {
   "metadata": {
    "ExecuteTime": {
     "end_time": "2025-01-08T16:51:05.580787Z",
     "start_time": "2025-01-08T16:51:05.574078Z"
    }
   },
   "cell_type": "code",
   "source": [
    "res = re.split(r'([,.]|\\s)',text)\n",
    "print (res)\n",
    "res = [item for item in res if item.strip()]\n",
    "print(res)"
   ],
   "id": "51471407b4cbe07",
   "outputs": [
    {
     "name": "stdout",
     "output_type": "stream",
     "text": [
      "['Hello', ',', '', ' ', 'world', '.', '', ' ', 'This', ',', '', ' ', 'is', ' ', 'a', ' ', 'test', '.', '']\n",
      "['Hello', ',', 'world', '.', 'This', ',', 'is', 'a', 'test', '.']\n"
     ]
    }
   ],
   "execution_count": 33
  },
  {
   "metadata": {
    "ExecuteTime": {
     "end_time": "2025-01-08T16:51:05.590343Z",
     "start_time": "2025-01-08T16:51:05.582796Z"
    }
   },
   "cell_type": "code",
   "source": [
    "text = \"Hello, world. Is this-- a test?\"\n",
    "result = re.split(r'([,.:;?_!\"()\\']|--|\\s)', text)\n",
    "result = [item.strip() for item in result if item.strip()]\n",
    "print(result)\n"
   ],
   "id": "a2d68ea643a7163",
   "outputs": [
    {
     "name": "stdout",
     "output_type": "stream",
     "text": [
      "['Hello', ',', 'world', '.', 'Is', 'this', '--', 'a', 'test', '?']\n"
     ]
    }
   ],
   "execution_count": 34
  },
  {
   "metadata": {
    "ExecuteTime": {
     "end_time": "2025-01-08T16:51:05.603246Z",
     "start_time": "2025-01-08T16:51:05.592355Z"
    }
   },
   "cell_type": "code",
   "source": [
    "preprocessed = re.split(r'([,.:;?_!\"()\\']|--|\\s)', raw)\n",
    "preprocessed = [item.strip() for item in preprocessed if item.strip()]\n",
    "print(len(preprocessed) , preprocessed[:100])"
   ],
   "id": "8e4333e535d6d8ee",
   "outputs": [
    {
     "name": "stdout",
     "output_type": "stream",
     "text": [
      "4690 ['I', 'HAD', 'always', 'thought', 'Jack', 'Gisburn', 'rather', 'a', 'cheap', 'genius', '--', 'though', 'a', 'good', 'fellow', 'enough', '--', 'so', 'it', 'was', 'no', 'great', 'surprise', 'to', 'me', 'to', 'hear', 'that', ',', 'in', 'the', 'height', 'of', 'his', 'glory', ',', 'he', 'had', 'dropped', 'his', 'painting', ',', 'married', 'a', 'rich', 'widow', ',', 'and', 'established', 'himself', 'in', 'a', 'villa', 'on', 'the', 'Riviera', '.', '(', 'Though', 'I', 'rather', 'thought', 'it', 'would', 'have', 'been', 'Rome', 'or', 'Florence', '.', ')', '\"', 'The', 'height', 'of', 'his', 'glory', '\"', '--', 'that', 'was', 'what', 'the', 'women', 'called', 'it', '.', 'I', 'can', 'hear', 'Mrs', '.', 'Gideon', 'Thwing', '--', 'his', 'last', 'Chicago', 'sitter', '--']\n"
     ]
    }
   ],
   "execution_count": 35
  },
  {
   "metadata": {
    "ExecuteTime": {
     "end_time": "2025-01-08T16:51:05.613541Z",
     "start_time": "2025-01-08T16:51:05.605253Z"
    }
   },
   "cell_type": "code",
   "source": [
    " all_words = sorted(set(preprocessed))\n",
    " vocab_size = len(all_words)\n",
    " print(vocab_size)"
   ],
   "id": "3b99b16fe0749496",
   "outputs": [
    {
     "name": "stdout",
     "output_type": "stream",
     "text": [
      "1130\n"
     ]
    }
   ],
   "execution_count": 36
  },
  {
   "metadata": {
    "ExecuteTime": {
     "end_time": "2025-01-08T16:51:05.632680Z",
     "start_time": "2025-01-08T16:51:05.623156Z"
    }
   },
   "cell_type": "code",
   "source": [
    "vocab = {token: integer for integer, token in enumerate(all_words)}\n",
    "for i , item in enumerate(vocab.items()):\n",
    "    print(item)\n",
    "    if i>50 :\n",
    "        break"
   ],
   "id": "e6cece51dafdaf39",
   "outputs": [
    {
     "name": "stdout",
     "output_type": "stream",
     "text": [
      "('!', 0)\n",
      "('\"', 1)\n",
      "(\"'\", 2)\n",
      "('(', 3)\n",
      "(')', 4)\n",
      "(',', 5)\n",
      "('--', 6)\n",
      "('.', 7)\n",
      "(':', 8)\n",
      "(';', 9)\n",
      "('?', 10)\n",
      "('A', 11)\n",
      "('Ah', 12)\n",
      "('Among', 13)\n",
      "('And', 14)\n",
      "('Are', 15)\n",
      "('Arrt', 16)\n",
      "('As', 17)\n",
      "('At', 18)\n",
      "('Be', 19)\n",
      "('Begin', 20)\n",
      "('Burlington', 21)\n",
      "('But', 22)\n",
      "('By', 23)\n",
      "('Carlo', 24)\n",
      "('Chicago', 25)\n",
      "('Claude', 26)\n",
      "('Come', 27)\n",
      "('Croft', 28)\n",
      "('Destroyed', 29)\n",
      "('Devonshire', 30)\n",
      "('Don', 31)\n",
      "('Dubarry', 32)\n",
      "('Emperors', 33)\n",
      "('Florence', 34)\n",
      "('For', 35)\n",
      "('Gallery', 36)\n",
      "('Gideon', 37)\n",
      "('Gisburn', 38)\n",
      "('Gisburns', 39)\n",
      "('Grafton', 40)\n",
      "('Greek', 41)\n",
      "('Grindle', 42)\n",
      "('Grindles', 43)\n",
      "('HAD', 44)\n",
      "('Had', 45)\n",
      "('Hang', 46)\n",
      "('Has', 47)\n",
      "('He', 48)\n",
      "('Her', 49)\n",
      "('Hermia', 50)\n",
      "('His', 51)\n"
     ]
    }
   ],
   "execution_count": 37
  },
  {
   "metadata": {
    "ExecuteTime": {
     "end_time": "2025-01-08T16:51:05.645728Z",
     "start_time": "2025-01-08T16:51:05.638205Z"
    }
   },
   "cell_type": "code",
   "source": [
    "class simpleTokenizerV1:\n",
    "    def __init__(self , vocab):\n",
    "        self.vocab = vocab\n",
    "        self.str_to_int = self.vocab\n",
    "        self.int_to_str = {i: s for s,i in vocab.items()}\n",
    "    def encode(self, text):\n",
    "        txt = re.split(r'([,.:;?_!\"()\\']|--|\\s)', text)\n",
    "        txt = [item.strip() for item in txt if item.strip()]\n",
    "        ids = [self.str_to_int[s] for s in txt]\n",
    "        return ids\n",
    "    def decode(self, ids):\n",
    "        txt = \" \".join([self.int_to_str[id] for id in ids])\n",
    "        txt =  re.sub(r'\\s+([,.?!\"()\\'])', r'\\1', txt) \n",
    "        return txt\n",
    "    \n",
    "        "
   ],
   "id": "90db645d98f7757a",
   "outputs": [],
   "execution_count": 38
  },
  {
   "metadata": {
    "ExecuteTime": {
     "end_time": "2025-01-08T16:51:05.809348Z",
     "start_time": "2025-01-08T16:51:05.802808Z"
    }
   },
   "cell_type": "code",
   "source": [
    "tokenizer = simpleTokenizerV1(vocab)\n",
    "text =  \"\"\"It's the last he painted, you know,\" \n",
    "       Mrs. Gisburn said with pardonable pride.\"\"\"\n",
    "ids = tokenizer.encode(text)\n",
    "print(ids)\n",
    "print(tokenizer.decode(ids))"
   ],
   "id": "ed9d7327f69085a8",
   "outputs": [
    {
     "name": "stdout",
     "output_type": "stream",
     "text": [
      "[56, 2, 850, 988, 602, 533, 746, 5, 1126, 596, 5, 1, 67, 7, 38, 851, 1108, 754, 793, 7]\n",
      "It' s the last he painted, you know,\" Mrs. Gisburn said with pardonable pride.\n"
     ]
    }
   ],
   "execution_count": 39
  },
  {
   "metadata": {
    "ExecuteTime": {
     "end_time": "2025-01-08T16:51:05.982337Z",
     "start_time": "2025-01-08T16:51:05.974802Z"
    }
   },
   "cell_type": "code",
   "source": [
    "all_token = sorted(list(set(preprocessed)))\n",
    "all_token.extend([\"<|endoftext|>\", \"<|unk|>\"])\n",
    "vocab = {token: i for i , token in enumerate(all_token)}\n",
    "print(len(vocab))"
   ],
   "id": "11d163ea723384cc",
   "outputs": [
    {
     "name": "stdout",
     "output_type": "stream",
     "text": [
      "1132\n"
     ]
    }
   ],
   "execution_count": 40
  },
  {
   "metadata": {
    "ExecuteTime": {
     "end_time": "2025-01-08T16:51:06.024573Z",
     "start_time": "2025-01-08T16:51:06.018514Z"
    }
   },
   "cell_type": "code",
   "source": [
    "for i , item in enumerate(list(vocab.items())[-5:]):\n",
    "    print(item)"
   ],
   "id": "62d163a583d4f289",
   "outputs": [
    {
     "name": "stdout",
     "output_type": "stream",
     "text": [
      "('younger', 1127)\n",
      "('your', 1128)\n",
      "('yourself', 1129)\n",
      "('<|endoftext|>', 1130)\n",
      "('<|unk|>', 1131)\n"
     ]
    }
   ],
   "execution_count": 41
  },
  {
   "metadata": {
    "ExecuteTime": {
     "end_time": "2025-01-08T16:51:06.111523Z",
     "start_time": "2025-01-08T16:51:06.101665Z"
    }
   },
   "cell_type": "code",
   "source": [
    "class simpleTokenizerV2:\n",
    "    def __init__(self , vocab):\n",
    "        self.vocab = vocab\n",
    "        self.str_to_int = self.vocab\n",
    "        self.int_to_str = {i: s for s,i in vocab.items()}\n",
    "    def encode(self, text):\n",
    "        txt = re.split(r'([,.:;?_!\"()\\']|--|\\s)', text)\n",
    "        txt = [item.strip() for item in txt if item.strip()]\n",
    "        txt = [item if item in self.str_to_int else \"<|unk|>\" for item in txt]\n",
    "        ids = [self.str_to_int[s] for s in txt]\n",
    "        return ids\n",
    "    def decode(self, ids):\n",
    "        txt = \" \".join([self.int_to_str[id] for id in ids])\n",
    "        txt =  re.sub(r'\\s+([,.?!\"()\\'])', r'\\1', txt) \n",
    "        return txt\n",
    "    \n",
    "        "
   ],
   "id": "1a975e9bcf054849",
   "outputs": [],
   "execution_count": 42
  },
  {
   "metadata": {
    "ExecuteTime": {
     "end_time": "2025-01-08T16:51:06.168924Z",
     "start_time": "2025-01-08T16:51:06.159645Z"
    }
   },
   "cell_type": "code",
   "source": [
    "text1 = \"Hello, do you like tea?\"\n",
    "text2 = \"In the sunlit terraces of the palace.\"\n",
    "text = \" <|endoftext|> \".join((text1, text2))\n",
    "print(text)"
   ],
   "id": "f06819f83edf8ee2",
   "outputs": [
    {
     "name": "stdout",
     "output_type": "stream",
     "text": [
      "Hello, do you like tea? <|endoftext|> In the sunlit terraces of the palace.\n"
     ]
    }
   ],
   "execution_count": 43
  },
  {
   "metadata": {
    "ExecuteTime": {
     "end_time": "2025-01-08T16:51:06.220575Z",
     "start_time": "2025-01-08T16:51:06.213097Z"
    }
   },
   "cell_type": "code",
   "source": [
    "tokenizer = simpleTokenizerV2(vocab)\n",
    "ids = tokenizer.encode(text)\n",
    "print(ids)\n",
    "print(tokenizer.decode(ids))\n"
   ],
   "id": "8bf468a9ca5976f1",
   "outputs": [
    {
     "name": "stdout",
     "output_type": "stream",
     "text": [
      "[1131, 5, 355, 1126, 628, 975, 10, 1130, 55, 988, 956, 984, 722, 988, 1131, 7]\n",
      "<|unk|>, do you like tea? <|endoftext|> In the sunlit terraces of the <|unk|>.\n"
     ]
    }
   ],
   "execution_count": 44
  },
  {
   "metadata": {
    "ExecuteTime": {
     "end_time": "2025-01-08T16:51:06.292560Z",
     "start_time": "2025-01-08T16:51:06.286560Z"
    }
   },
   "cell_type": "code",
   "source": "# pip install tiktoken",
   "id": "fc1c0be9411264ee",
   "outputs": [],
   "execution_count": 45
  },
  {
   "metadata": {
    "ExecuteTime": {
     "end_time": "2025-01-08T16:51:06.357768Z",
     "start_time": "2025-01-08T16:51:06.346981Z"
    }
   },
   "cell_type": "code",
   "source": [
    "from importlib.metadata import version\n",
    "import tiktoken\n",
    "__version__ = version('tiktoken')\n",
    "print(__version__)"
   ],
   "id": "c478531973147454",
   "outputs": [
    {
     "name": "stdout",
     "output_type": "stream",
     "text": [
      "0.8.0\n"
     ]
    }
   ],
   "execution_count": 46
  },
  {
   "metadata": {
    "ExecuteTime": {
     "end_time": "2025-01-08T16:51:06.400036Z",
     "start_time": "2025-01-08T16:51:06.394141Z"
    }
   },
   "cell_type": "code",
   "source": "tokenizer = tiktoken.get_encoding(\"gpt2\")",
   "id": "dc24f1d2b969e27c",
   "outputs": [],
   "execution_count": 47
  },
  {
   "metadata": {
    "ExecuteTime": {
     "end_time": "2025-01-08T16:51:06.465346Z",
     "start_time": "2025-01-08T16:51:06.460697Z"
    }
   },
   "cell_type": "code",
   "source": [
    "text = (\n",
    "    \"Hello, do you like tea? <|endoftext|> In the sunlit terraces\"\n",
    "     \"of someunknownPlace. pranjal sgkjnoi!@#$%^&*()\"\n",
    " )\n",
    "integers = tokenizer.encode(text, allowed_special={\"<|endoftext|>\"})\n",
    "print(integers)\n",
    "strings = tokenizer.decode(integers)\n",
    "print(strings)"
   ],
   "id": "4ab936e57d462a8d",
   "outputs": [
    {
     "name": "stdout",
     "output_type": "stream",
     "text": [
      "[15496, 11, 466, 345, 588, 8887, 30, 220, 50256, 554, 262, 4252, 18250, 8812, 2114, 1659, 617, 34680, 27271, 13, 778, 272, 73, 282, 264, 70, 42421, 3919, 72, 0, 31, 29953, 4, 61, 5, 9, 3419]\n",
      "Hello, do you like tea? <|endoftext|> In the sunlit terracesof someunknownPlace. pranjal sgkjnoi!@#$%^&*()\n"
     ]
    }
   ],
   "execution_count": 48
  },
  {
   "metadata": {
    "ExecuteTime": {
     "end_time": "2025-01-08T16:51:06.522921Z",
     "start_time": "2025-01-08T16:51:06.517412Z"
    }
   },
   "cell_type": "code",
   "source": [
    "text = (\n",
    "    \"Akwirw ier\"\n",
    " )\n",
    "integers = tokenizer.encode(text, allowed_special={\"<|endoftext|>\"})\n",
    "print(integers)\n",
    "strings = tokenizer.decode(integers)\n",
    "print(strings)"
   ],
   "id": "812f9eadfe552472",
   "outputs": [
    {
     "name": "stdout",
     "output_type": "stream",
     "text": [
      "[33901, 86, 343, 86, 220, 959]\n",
      "Akwirw ier\n"
     ]
    }
   ],
   "execution_count": 49
  },
  {
   "metadata": {
    "ExecuteTime": {
     "end_time": "2025-01-08T16:51:06.554354Z",
     "start_time": "2025-01-08T16:51:06.545472Z"
    }
   },
   "cell_type": "code",
   "source": [
    " with open(\"the-verdict.txt\", \"r\", encoding=\"utf-8\") as f:\n",
    "    raw_text = f.read()\n",
    " enc_text = tokenizer.encode(raw_text)\n",
    " print(len(enc_text))"
   ],
   "id": "5ba9cc50c19b234f",
   "outputs": [
    {
     "name": "stdout",
     "output_type": "stream",
     "text": [
      "5145\n"
     ]
    }
   ],
   "execution_count": 50
  },
  {
   "metadata": {
    "ExecuteTime": {
     "end_time": "2025-01-08T16:51:06.608647Z",
     "start_time": "2025-01-08T16:51:06.603640Z"
    }
   },
   "cell_type": "code",
   "source": [
    "enc_sample = enc_text[50:]\n",
    "# print(enc_sample)"
   ],
   "id": "b0c536c275efe373",
   "outputs": [],
   "execution_count": 51
  },
  {
   "metadata": {
    "ExecuteTime": {
     "end_time": "2025-01-08T16:51:06.693401Z",
     "start_time": "2025-01-08T16:51:06.684866Z"
    }
   },
   "cell_type": "code",
   "source": [
    "context_size = 4        \n",
    "x = enc_sample[:context_size]\n",
    "y = enc_sample[1:context_size+1]\n",
    "print(f\"x: {x}\")\n",
    "print(f\"y:      {y}\")"
   ],
   "id": "1cf31003440f2470",
   "outputs": [
    {
     "name": "stdout",
     "output_type": "stream",
     "text": [
      "x: [290, 4920, 2241, 287]\n",
      "y:      [4920, 2241, 287, 257]\n"
     ]
    }
   ],
   "execution_count": 52
  },
  {
   "metadata": {
    "ExecuteTime": {
     "end_time": "2025-01-08T16:51:06.716008Z",
     "start_time": "2025-01-08T16:51:06.709433Z"
    }
   },
   "cell_type": "code",
   "source": [
    "for i in range(1, context_size+1):\n",
    "    context = enc_sample[:i]\n",
    "    desired = enc_sample[i]\n",
    "    print(context, \"---->\", desired)"
   ],
   "id": "3252fbcd5f292de9",
   "outputs": [
    {
     "name": "stdout",
     "output_type": "stream",
     "text": [
      "[290] ----> 4920\n",
      "[290, 4920] ----> 2241\n",
      "[290, 4920, 2241] ----> 287\n",
      "[290, 4920, 2241, 287] ----> 257\n"
     ]
    }
   ],
   "execution_count": 53
  },
  {
   "metadata": {
    "ExecuteTime": {
     "end_time": "2025-01-08T16:51:06.766044Z",
     "start_time": "2025-01-08T16:51:06.757847Z"
    }
   },
   "cell_type": "code",
   "source": [
    "for i in range(1, context_size+1):\n",
    "    context = enc_sample[:i]\n",
    "    desired = enc_sample[i]\n",
    "    print(tokenizer.decode(context), \"---->\", tokenizer.decode([desired]))"
   ],
   "id": "917bcb1f4d88b672",
   "outputs": [
    {
     "name": "stdout",
     "output_type": "stream",
     "text": [
      " and ---->  established\n",
      " and established ---->  himself\n",
      " and established himself ---->  in\n",
      " and established himself in ---->  a\n"
     ]
    }
   ],
   "execution_count": 54
  },
  {
   "metadata": {
    "ExecuteTime": {
     "end_time": "2025-01-08T16:55:04.367081Z",
     "start_time": "2025-01-08T16:55:04.362940Z"
    }
   },
   "cell_type": "code",
   "source": [
    "import torch \n",
    "from torch.utils.data import Dataset , DataLoader"
   ],
   "id": "7bd162823d6ca1f6",
   "outputs": [],
   "execution_count": 56
  },
  {
   "metadata": {
    "ExecuteTime": {
     "end_time": "2025-01-08T17:01:41.765531Z",
     "start_time": "2025-01-08T17:01:41.757843Z"
    }
   },
   "cell_type": "code",
   "source": [
    "class GPTDatasetV1(Dataset):\n",
    "    def __init__(self , txt , tokenizer , max_len , stride):\n",
    "        self.input_ids = []\n",
    "        self.target_ids = []\n",
    "        token_ids = tokenizer.encode(txt)\n",
    "        for i in range(0,len(token_ids)-max_len , stride):\n",
    "            input_chunk = token_ids[i:i + max_len]\n",
    "            target_chunk = token_ids[i + 1: i + max_len + 1]\n",
    "            self.input_ids.append(input_chunk)\n",
    "            self.target_ids.append(target_chunk)\n",
    "    def __len__(self):\n",
    "        return len(self.input_ids)\n",
    "    def __getitem__(self, idx):\n",
    "        return self.input_ids[idx], self.target_ids[idx]\n",
    "            \n",
    "        "
   ],
   "id": "3372cbe9d9a13ce0",
   "outputs": [],
   "execution_count": 57
  },
  {
   "metadata": {
    "ExecuteTime": {
     "end_time": "2025-01-08T17:14:39.336868Z",
     "start_time": "2025-01-08T17:14:39.331437Z"
    }
   },
   "cell_type": "code",
   "source": [
    "def create_dataloaderv1(txt , batchsize  = 4 ,  max_len = 256 , stride = 128 , shuffle = True , drop_last = True , num_workers = 0):\n",
    "    tokenizer =  tiktoken.get_encoding(\"gpt2\")\n",
    "    dataset = GPTDatasetV1(txt , tokenizer, max_len , stride)\n",
    "    dataloader =  dataloader = DataLoader(\n",
    "        dataset,\n",
    "        batch_size=batchsize,\n",
    "        shuffle=shuffle,\n",
    "        drop_last=drop_last,    \n",
    "        num_workers=num_workers    \n",
    "    )\n",
    "    return dataloader"
   ],
   "id": "e67dfaaf1e0a81fb",
   "outputs": [],
   "execution_count": 86
  },
  {
   "metadata": {
    "ExecuteTime": {
     "end_time": "2025-01-08T17:14:41.401424Z",
     "start_time": "2025-01-08T17:14:41.384828Z"
    }
   },
   "cell_type": "code",
   "source": [
    "with open(\"the-verdict.txt\", \"r\", encoding=\"utf-8\") as f:\n",
    "    raw_text = f.read()\n",
    "dataloader = create_dataloaderv1(\n",
    "    raw_text, batchsize=1, max_len=4, stride=1, shuffle=False , )\n",
    "data_iter = iter(dataloader)\n",
    "print(next(data_iter))"
   ],
   "id": "4ab22c9e09ceb6f1",
   "outputs": [
    {
     "name": "stdout",
     "output_type": "stream",
     "text": [
      "[[tensor([40]), tensor([367]), tensor([2885]), tensor([1464])], [tensor([367]), tensor([2885]), tensor([1464]), tensor([1807])]]\n"
     ]
    }
   ],
   "execution_count": 87
  },
  {
   "metadata": {
    "ExecuteTime": {
     "end_time": "2025-01-08T17:14:45.130974Z",
     "start_time": "2025-01-08T17:14:45.123846Z"
    }
   },
   "cell_type": "code",
   "source": "print(next(data_iter))",
   "id": "8af382be43b3290",
   "outputs": [
    {
     "name": "stdout",
     "output_type": "stream",
     "text": [
      "[[tensor([367]), tensor([2885]), tensor([1464]), tensor([1807])], [tensor([2885]), tensor([1464]), tensor([1807]), tensor([3619])]]\n"
     ]
    }
   ],
   "execution_count": 88
  },
  {
   "metadata": {
    "ExecuteTime": {
     "end_time": "2025-01-08T17:14:53.732400Z",
     "start_time": "2025-01-08T17:14:53.721317Z"
    }
   },
   "cell_type": "code",
   "source": [
    " dataloader = create_dataloaderv1(\n",
    "    raw_text, batchsize=8, max_len=4, stride=4,\n",
    "    shuffle=False\n",
    " )\n",
    " data_iter = iter(dataloader)\n",
    " inputs, targets = next(data_iter)\n",
    " print(\"Inputs:\\n\", inputs)\n",
    " print(\"\\nTargets:\\n\", targets)"
   ],
   "id": "5153491464bbfa92",
   "outputs": [
    {
     "name": "stdout",
     "output_type": "stream",
     "text": [
      "Inputs:\n",
      " [tensor([   40,  1807, 10899, 15632,   922,   568,  1049,   284]), tensor([ 367, 3619, 2138,  438, 5891,  340, 5975, 3285]), tensor([2885,  402,  257, 2016, 1576,  373,  284,  326]), tensor([1464,  271, 7026,  257,  438,  645,  502,   11])]\n",
      "\n",
      "Targets:\n",
      " [tensor([ 367, 3619, 2138,  438, 5891,  340, 5975, 3285]), tensor([2885,  402,  257, 2016, 1576,  373,  284,  326]), tensor([1464,  271, 7026,  257,  438,  645,  502,   11]), tensor([ 1807, 10899, 15632,   922,   568,  1049,   284,   287])]\n"
     ]
    }
   ],
   "execution_count": 89
  },
  {
   "metadata": {
    "ExecuteTime": {
     "end_time": "2025-01-08T17:17:39.334692Z",
     "start_time": "2025-01-08T17:17:39.295080Z"
    }
   },
   "cell_type": "code",
   "source": [
    "input_ids = torch.tensor([2, 3, 5, 1])\n",
    "vocab_size = 6\n",
    "output_dim = 3\n",
    "torch.manual_seed(123)\n",
    "embedding_layer = torch.nn.Embedding(vocab_size, output_dim)\n",
    "print(embedding_layer.weight)"
   ],
   "id": "4eca6e8c5574b846",
   "outputs": [
    {
     "name": "stdout",
     "output_type": "stream",
     "text": [
      "Parameter containing:\n",
      "tensor([[ 0.3374, -0.1778, -0.1690],\n",
      "        [ 0.9178,  1.5810,  1.3010],\n",
      "        [ 1.2753, -0.2010, -0.1606],\n",
      "        [-0.4015,  0.9666, -1.1481],\n",
      "        [-1.1589,  0.3255, -0.6315],\n",
      "        [-2.8400, -0.7849, -1.4096]], requires_grad=True)\n"
     ]
    }
   ],
   "execution_count": 91
  },
  {
   "metadata": {
    "ExecuteTime": {
     "end_time": "2025-01-08T17:21:07.178929Z",
     "start_time": "2025-01-08T17:21:07.167496Z"
    }
   },
   "cell_type": "code",
   "source": [
    "print(embedding_layer.weight.shape)\n",
    "print(embedding_layer(input_ids))"
   ],
   "id": "2912ed4dcaef42b2",
   "outputs": [
    {
     "name": "stdout",
     "output_type": "stream",
     "text": [
      "torch.Size([6, 3])\n",
      "tensor([[ 1.2753, -0.2010, -0.1606],\n",
      "        [-0.4015,  0.9666, -1.1481],\n",
      "        [-2.8400, -0.7849, -1.4096],\n",
      "        [ 0.9178,  1.5810,  1.3010]], grad_fn=<EmbeddingBackward0>)\n"
     ]
    }
   ],
   "execution_count": 92
  },
  {
   "metadata": {
    "ExecuteTime": {
     "end_time": "2025-01-08T18:09:57.130508Z",
     "start_time": "2025-01-08T18:09:57.000835Z"
    }
   },
   "cell_type": "code",
   "source": [
    " vocab_size = 50257\n",
    " output_dim = 256\n",
    " token_embedding_layer = torch.nn.Embedding(vocab_size, output_dim)"
   ],
   "id": "a2cc4d2838ed3586",
   "outputs": [],
   "execution_count": 93
  },
  {
   "metadata": {
    "ExecuteTime": {
     "end_time": "2025-01-08T18:20:12.889898Z",
     "start_time": "2025-01-08T18:20:12.870792Z"
    }
   },
   "cell_type": "code",
   "source": [
    " max_length = 4\n",
    " dataloader = create_dataloaderv1(\n",
    "    raw_text, batchsize=8, max_len=max_length,\n",
    "   stride=max_length, shuffle=False\n",
    " )\n",
    " data_iter = iter(dataloader)\n",
    " inputs, targets = next(data_iter)\n",
    " print(\"Token IDs:\\n\", inputs)\n",
    " print(\"\\nInputs shape:\\n\", len(inputs) , len(inputs[0]))"
   ],
   "id": "edf33f5bb341d351",
   "outputs": [
    {
     "name": "stdout",
     "output_type": "stream",
     "text": [
      "Token IDs:\n",
      " [tensor([   40,  1807, 10899, 15632,   922,   568,  1049,   284]), tensor([ 367, 3619, 2138,  438, 5891,  340, 5975, 3285]), tensor([2885,  402,  257, 2016, 1576,  373,  284,  326]), tensor([1464,  271, 7026,  257,  438,  645,  502,   11])]\n",
      "\n",
      "Inputs shape:\n",
      " 4 8\n"
     ]
    }
   ],
   "execution_count": 104
  },
  {
   "metadata": {
    "ExecuteTime": {
     "end_time": "2025-01-08T18:22:50.642494Z",
     "start_time": "2025-01-08T18:22:50.631133Z"
    }
   },
   "cell_type": "code",
   "source": [
    "inputs = torch.stack(inputs)\n",
    "token_embeddings = token_embedding_layer(inputs)\n",
    "print(token_embeddings.shape)\n"
   ],
   "id": "3a49072f794c7b20",
   "outputs": [
    {
     "name": "stdout",
     "output_type": "stream",
     "text": [
      "torch.Size([4, 8, 256])\n"
     ]
    }
   ],
   "execution_count": 107
  },
  {
   "metadata": {
    "ExecuteTime": {
     "end_time": "2025-01-08T18:23:54.796048Z",
     "start_time": "2025-01-08T18:23:54.785352Z"
    }
   },
   "cell_type": "code",
   "source": [
    "context_length = max_length\n",
    "pos_embedding_layer = torch.nn.Embedding(context_length, output_dim)\n",
    "pos_embeddings = pos_embedding_layer(torch.arange(context_length))\n",
    "print(pos_embeddings.shape)"
   ],
   "id": "6d081879715eb202",
   "outputs": [
    {
     "name": "stdout",
     "output_type": "stream",
     "text": [
      "torch.Size([4, 256])\n"
     ]
    }
   ],
   "execution_count": 108
  },
  {
   "metadata": {},
   "cell_type": "code",
   "outputs": [],
   "execution_count": null,
   "source": "",
   "id": "82866b32ef42126a"
  }
 ],
 "metadata": {
  "kernelspec": {
   "display_name": "Python 3 (ipykernel)",
   "language": "python",
   "name": "python3"
  },
  "language_info": {
   "codemirror_mode": {
    "name": "ipython",
    "version": 2
   },
   "file_extension": ".py",
   "mimetype": "text/x-python",
   "name": "python",
   "nbconvert_exporter": "python",
   "pygments_lexer": "ipython2",
   "version": "2.7.6"
  }
 },
 "nbformat": 4,
 "nbformat_minor": 5
}
